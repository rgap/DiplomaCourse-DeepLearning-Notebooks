{
  "nbformat": 4,
  "nbformat_minor": 0,
  "metadata": {
    "colab": {
      "provenance": []
    },
    "kernelspec": {
      "name": "python3",
      "display_name": "Python 3"
    }
  },
  "cells": [
    {
      "cell_type": "markdown",
      "metadata": {
        "id": "YXMMkZb0Agyp"
      },
      "source": [
        "## Perceptrón\n",
        "\n",
        "En el siguiente ejercicio programarás el funcionamiento de un perceptrón para alguna aplicación."
      ]
    },
    {
      "cell_type": "code",
      "source": [
        "import numpy as np"
      ],
      "metadata": {
        "id": "QV7jodLlxfLf"
      },
      "execution_count": null,
      "outputs": []
    },
    {
      "cell_type": "markdown",
      "source": [
        "## Función de activación"
      ],
      "metadata": {
        "id": "nxRW9eltc9-b"
      }
    },
    {
      "cell_type": "code",
      "source": [
        "def relu(vector_2):\n",
        "  return np.maximum(, vector_2)"
      ],
      "metadata": {
        "id": "XEt81_oCdBcT"
      },
      "execution_count": null,
      "outputs": []
    },
    {
      "cell_type": "markdown",
      "source": [
        "## Entradas"
      ],
      "metadata": {
        "id": "0Zbj3DhRc7Ks"
      }
    },
    {
      "cell_type": "code",
      "metadata": {
        "id": "80hf_H5pHQDA"
      },
      "source": [
        "x = np.array([[0,0,1], [0,1,1], [1,0,1], [1,1,1]])\n",
        "y = np.array([350, 200, 200, 50])\n",
        "w = np.array([-150, -150, 350])"
      ],
      "execution_count": null,
      "outputs": []
    },
    {
      "cell_type": "markdown",
      "source": [
        "## Procesamiento\n",
        "feed forward, forward pass, alimentación hacia adelante"
      ],
      "metadata": {
        "id": "k7XGvZ7SdFFz"
      }
    },
    {
      "cell_type": "code",
      "source": [
        "h = np.dot(w, x.T)\n",
        "out = relu(h)\n",
        "print(h)\n",
        "print(out)"
      ],
      "metadata": {
        "id": "APgeHyfVdGwq",
        "colab": {
          "base_uri": "https://localhost:8080/"
        },
        "outputId": "a8fda2cd-ebb3-4e9a-a5d6-1fb2c2886dd9"
      },
      "execution_count": null,
      "outputs": [
        {
          "output_type": "stream",
          "name": "stdout",
          "text": [
            "[350 200 200  50]\n",
            "[350 200 200  50]\n"
          ]
        }
      ]
    },
    {
      "cell_type": "code",
      "source": [],
      "metadata": {
        "id": "xHngbA1PyuKl"
      },
      "execution_count": null,
      "outputs": []
    }
  ]
}