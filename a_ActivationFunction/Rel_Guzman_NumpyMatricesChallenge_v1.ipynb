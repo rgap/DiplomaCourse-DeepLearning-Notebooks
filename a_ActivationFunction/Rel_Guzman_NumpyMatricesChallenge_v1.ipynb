{
  "nbformat": 4,
  "nbformat_minor": 0,
  "metadata": {
    "colab": {
      "provenance": []
    },
    "language_info": {
      "codemirror_mode": {
        "name": "ipython",
        "version": 3
      },
      "file_extension": ".py",
      "mimetype": "text/x-python",
      "name": "python",
      "nbconvert_exporter": "python",
      "pygments_lexer": "ipython3",
      "version": "3.5.2"
    },
    "kernelspec": {
      "display_name": "Python [default]",
      "language": "python",
      "name": "python3"
    }
  },
  "cells": [
    {
      "cell_type": "markdown",
      "metadata": {
        "deletable": true,
        "editable": true,
        "id": "R7Iv95QoJzTk"
      },
      "source": [
        "# Numpy matrices challenge"
      ]
    },
    {
      "cell_type": "markdown",
      "metadata": {
        "deletable": true,
        "editable": true,
        "id": "6q1JRLh6JzTl"
      },
      "source": [
        "En este ejercicio aplicarás los conceptos de las operaciones con vectores y matrices utilizando la biblioteca numpy"
      ]
    },
    {
      "cell_type": "code",
      "metadata": {
        "deletable": true,
        "editable": true,
        "id": "6WRNOv6xJzTm"
      },
      "source": [
        "import numpy as np"
      ],
      "execution_count": null,
      "outputs": []
    },
    {
      "cell_type": "code",
      "metadata": {
        "deletable": true,
        "editable": true,
        "id": "HPiIQ_wAJzTp"
      },
      "source": [
        "def acertijo_de_vectores(inputs):\n",
        "    # Crea un arreglo 2-dimensional dada el vector de 1-dimensión\n",
        "    #     inputs y asigna la matriz a la variable input_array\n",
        "    input_array = inputs.reshape(1,3)\n",
        "\n",
        "\n",
        "    # Encuentra el mínimo valor en input_array y restalo a\n",
        "    #     cada elemento del arreglo input_array. Guarda el\n",
        "    #     valor en in input_minus_min\n",
        "    input_minus_min = input_array - np.amin(input_array)\n",
        "\n",
        "\n",
        "    # Encuentra el maximo valor en input_minus_min y divide\n",
        "    #     todos los elementos de input_minus_min por su máximo valor.\n",
        "    #     Guarda el resultado en input_div_max.\n",
        "    input_div_max = input_minus_min / np.amax(input_minus_min)\n",
        "\n",
        "    # Regresa los tres arreglos que se han creado\n",
        "    return input_array, input_minus_min, input_div_max"
      ],
      "execution_count": null,
      "outputs": []
    },
    {
      "cell_type": "code",
      "metadata": {
        "deletable": true,
        "editable": true,
        "id": "za-JkS42JzTr",
        "colab": {
          "base_uri": "https://localhost:8080/"
        },
        "outputId": "fca929fc-a9ab-4709-fe1d-5ba5ed1d06f9"
      },
      "source": [
        "#Evaluación de la funcion acertijo_de_vectores\n",
        "arreglo = np.array([-1,2,7])\n",
        "input_array, input_minus_min, input_div_max = acertijo_de_vectores(arreglo)\n",
        "\n",
        "print(\"El vector como matriz:\", input_array)\n",
        "print(\"La variable inputs_minus_min:\", input_minus_min)\n",
        "print(\"La variable inputs_div_max:\", input_div_max)"
      ],
      "execution_count": null,
      "outputs": [
        {
          "output_type": "stream",
          "name": "stdout",
          "text": [
            "El vector como matriz: [[-1  2  7]]\n",
            "La variable inputs_minus_min: [[0 3 8]]\n",
            "La variable inputs_div_max: [[0.    0.375 1.   ]]\n"
          ]
        }
      ]
    },
    {
      "cell_type": "code",
      "metadata": {
        "deletable": true,
        "editable": true,
        "id": "EOvAkSN6JzTv"
      },
      "source": [
        "def multiplica_mi_matriz(m1, m2):\n",
        "    # Evalua las dimensiones de las matrices m1 y m2.\n",
        "    #       Regresa falso si sus formas no pueden multiplicarse\n",
        "    #       Si las formas de las matrices son válidas entonces\n",
        "    #       calcula el producto matricial de m1 y m2 y regresa el resultado.\n",
        "    #       Nota: No se puede usar la transpuesta de las matrices\n",
        "    if m1.shape[1] == m2.shape[0]:\n",
        "      return np.matmul(m1, m2)\n",
        "    else:\n",
        "      return False"
      ],
      "execution_count": null,
      "outputs": []
    },
    {
      "cell_type": "code",
      "metadata": {
        "id": "d3gcgJs4J8-W",
        "colab": {
          "base_uri": "https://localhost:8080/"
        },
        "outputId": "c79429b4-0d27-4a2f-d423-0b73a500297e"
      },
      "source": [
        "#Evaluación de la función multiplica_mi_matriz\n",
        "print(\"Multiplicación 1:\", multiplica_mi_matriz(np.array([[1,2,3],[4,5,6]]), np.array([[1],[2],[3],[4]])) )\n",
        "print(\"Multiplicación 2:\", multiplica_mi_matriz(np.array([[1,2,3],[4,5,6]]), np.array([[1],[2],[3]])) )\n",
        "print(\"Multiplicación 3:\", multiplica_mi_matriz(np.array([[1,2,3],[4,5,6]]), np.array([[1,2]])) )"
      ],
      "execution_count": null,
      "outputs": [
        {
          "output_type": "stream",
          "name": "stdout",
          "text": [
            "Multiplicación 1: False\n",
            "Multiplicación 2: [[14]\n",
            " [32]]\n",
            "Multiplicación 3: False\n"
          ]
        }
      ]
    },
    {
      "cell_type": "code",
      "metadata": {
        "deletable": true,
        "editable": true,
        "id": "FdESPtj0JzTy"
      },
      "source": [
        "def encuentra_la_media(vector):\n",
        "    # Regresa la media de los valores en el vector dado\n",
        "    return np.mean(vector)"
      ],
      "execution_count": null,
      "outputs": []
    },
    {
      "cell_type": "code",
      "metadata": {
        "deletable": true,
        "editable": true,
        "id": "te5tqEv9lmjv",
        "colab": {
          "base_uri": "https://localhost:8080/"
        },
        "outputId": "feea9f9e-94cf-41ad-a660-3b0bf1d28f29"
      },
      "source": [
        "#Evaluación de la función encuentra_la_media\n",
        "valores = np.array([1,3,4])\n",
        "print(\"Media:\", encuentra_la_media(valores) )"
      ],
      "execution_count": null,
      "outputs": [
        {
          "output_type": "stream",
          "name": "stdout",
          "text": [
            "Media: 2.6666666666666665\n"
          ]
        }
      ]
    }
  ]
}