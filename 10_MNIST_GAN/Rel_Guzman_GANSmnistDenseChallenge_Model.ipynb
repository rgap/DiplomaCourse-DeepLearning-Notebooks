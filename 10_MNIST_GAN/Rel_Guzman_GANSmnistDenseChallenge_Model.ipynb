{
  "nbformat": 4,
  "nbformat_minor": 0,
  "metadata": {
    "colab": {
      "provenance": []
    },
    "kernelspec": {
      "name": "python3",
      "display_name": "Python 3"
    },
    "language_info": {
      "name": "python"
    },
    "accelerator": "GPU"
  },
  "cells": [
    {
      "cell_type": "markdown",
      "metadata": {
        "id": "Wf5X2NhNwaJP"
      },
      "source": [
        "# GANs con redes dense"
      ]
    },
    {
      "cell_type": "code",
      "metadata": {
        "id": "7IX2QgKFqB6q"
      },
      "source": [
        "# Importamos la librerías\n",
        "import numpy as np\n",
        "import matplotlib.pyplot as plt\n",
        "\n",
        "import tensorflow as tf\n",
        "from tensorflow.keras.models import Sequential\n",
        "from tensorflow.keras.layers import Dense, Dropout, LeakyReLU\n",
        "from tensorflow.keras import optimizers, backend\n",
        "from tensorflow.keras.datasets import mnist"
      ],
      "execution_count": null,
      "outputs": []
    },
    {
      "cell_type": "code",
      "metadata": {
        "id": "i2ga-pNcfWcX"
      },
      "source": [
        "backend.clear_session()"
      ],
      "execution_count": null,
      "outputs": []
    },
    {
      "cell_type": "markdown",
      "metadata": {
        "id": "sisYmx0aGrqL"
      },
      "source": [
        "## Red generadora"
      ]
    },
    {
      "cell_type": "code",
      "metadata": {
        "id": "A8_jlZS-qeda",
        "colab": {
          "base_uri": "https://localhost:8080/"
        },
        "outputId": "29a8b7e4-9bff-48ae-b9c7-a351d98358e0"
      },
      "source": [
        "# Generador\n",
        "generador = Sequential()\n",
        "generador.add(Dense(100, input_shape = (20,)))\n",
        "generador.add(LeakyReLU(alpha = 0.3))\n",
        "generador.add(Dense(300))\n",
        "generador.add(Dense(784, activation = 'tanh'))\n",
        "generador.summary()"
      ],
      "execution_count": null,
      "outputs": [
        {
          "output_type": "stream",
          "name": "stdout",
          "text": [
            "Model: \"sequential\"\n",
            "_________________________________________________________________\n",
            " Layer (type)                Output Shape              Param #   \n",
            "=================================================================\n",
            " dense (Dense)               (None, 100)               2100      \n",
            "                                                                 \n",
            " leaky_re_lu (LeakyReLU)     (None, 100)               0         \n",
            "                                                                 \n",
            " dense_1 (Dense)             (None, 300)               30300     \n",
            "                                                                 \n",
            " dense_2 (Dense)             (None, 784)               235984    \n",
            "                                                                 \n",
            "=================================================================\n",
            "Total params: 268384 (1.02 MB)\n",
            "Trainable params: 268384 (1.02 MB)\n",
            "Non-trainable params: 0 (0.00 Byte)\n",
            "_________________________________________________________________\n"
          ]
        }
      ]
    },
    {
      "cell_type": "markdown",
      "metadata": {
        "id": "FusmjKqMxKiR"
      },
      "source": [
        "## Red discriminativa"
      ]
    },
    {
      "cell_type": "code",
      "metadata": {
        "id": "4zx4U39ZxHfT",
        "colab": {
          "base_uri": "https://localhost:8080/"
        },
        "outputId": "0bcccbc4-f01f-46ca-bdf1-d2555edcaa0b"
      },
      "source": [
        "# Discriminador\n",
        "discriminador = Sequential()\n",
        "discriminador.add(Dense(300, input_shape = (784,)))\n",
        "discriminador.add(LeakyReLU(alpha = 0.3))\n",
        "discriminador.add(Dense(100))\n",
        "discriminador.add(LeakyReLU(alpha = 0.3))\n",
        "discriminador.add(Dense(1, activation = 'sigmoid'))\n",
        "discriminador.summary()"
      ],
      "execution_count": null,
      "outputs": [
        {
          "output_type": "stream",
          "name": "stdout",
          "text": [
            "Model: \"sequential_1\"\n",
            "_________________________________________________________________\n",
            " Layer (type)                Output Shape              Param #   \n",
            "=================================================================\n",
            " dense_3 (Dense)             (None, 300)               235500    \n",
            "                                                                 \n",
            " leaky_re_lu_1 (LeakyReLU)   (None, 300)               0         \n",
            "                                                                 \n",
            " dense_4 (Dense)             (None, 100)               30100     \n",
            "                                                                 \n",
            " leaky_re_lu_2 (LeakyReLU)   (None, 100)               0         \n",
            "                                                                 \n",
            " dense_5 (Dense)             (None, 1)                 101       \n",
            "                                                                 \n",
            "=================================================================\n",
            "Total params: 265701 (1.01 MB)\n",
            "Trainable params: 265701 (1.01 MB)\n",
            "Non-trainable params: 0 (0.00 Byte)\n",
            "_________________________________________________________________\n"
          ]
        }
      ]
    },
    {
      "cell_type": "markdown",
      "metadata": {
        "id": "WskQcXkGzVK-"
      },
      "source": [
        "## Red GAN"
      ]
    },
    {
      "cell_type": "code",
      "metadata": {
        "id": "-lJkqA386J0x"
      },
      "source": [
        "# Como el discriminador se entrena por separado, se compila aparte\n",
        "adam_1 = optimizers.Adam(learning_rate = 0.001)\n",
        "discriminador.compile(loss = 'binary_crossentropy', optimizer = adam_1, metrics = ['accuracy'])"
      ],
      "execution_count": null,
      "outputs": []
    },
    {
      "cell_type": "code",
      "metadata": {
        "id": "6B7Hv_Ve-yOL"
      },
      "source": [
        "# Como el generador se entrena junto con la red discriminativa se crea un modelo nuevo para\n",
        "# juntar las dos redes\n",
        "\n",
        "# Se \"congela\" la red discriminativa\n",
        "discriminador.trainable = False\n",
        "\n",
        "# Definimos el modelo GAN con el generador y el discriminador\n",
        "gan = Sequential()\n",
        "gan.add(generador)\n",
        "gan.add(discriminador)"
      ],
      "execution_count": null,
      "outputs": []
    },
    {
      "cell_type": "code",
      "source": [
        "gan.summary()"
      ],
      "metadata": {
        "colab": {
          "base_uri": "https://localhost:8080/"
        },
        "id": "BKppAZYfTODm",
        "outputId": "0e78f0f0-b408-45da-bbb2-12a3f61ffcaa"
      },
      "execution_count": null,
      "outputs": [
        {
          "output_type": "stream",
          "name": "stdout",
          "text": [
            "Model: \"sequential_2\"\n",
            "_________________________________________________________________\n",
            " Layer (type)                Output Shape              Param #   \n",
            "=================================================================\n",
            " sequential (Sequential)     (None, 784)               268384    \n",
            "                                                                 \n",
            " sequential_1 (Sequential)   (None, 1)                 265701    \n",
            "                                                                 \n",
            "=================================================================\n",
            "Total params: 534085 (2.04 MB)\n",
            "Trainable params: 268384 (1.02 MB)\n",
            "Non-trainable params: 265701 (1.01 MB)\n",
            "_________________________________________________________________\n"
          ]
        }
      ]
    },
    {
      "cell_type": "code",
      "metadata": {
        "id": "OoTVl3SrZ7Cq"
      },
      "source": [
        "# Compilamos el modelo GAN\n",
        "adam_2 = optimizers.Adam(learning_rate = 0.001)\n",
        "gan.compile(loss = 'binary_crossentropy', optimizer = adam_2)"
      ],
      "execution_count": null,
      "outputs": []
    },
    {
      "cell_type": "code",
      "metadata": {
        "id": "MeLYbFdNYHiy"
      },
      "source": [],
      "execution_count": null,
      "outputs": []
    }
  ]
}