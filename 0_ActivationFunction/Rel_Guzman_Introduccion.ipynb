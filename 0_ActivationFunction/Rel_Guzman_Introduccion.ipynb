{
  "nbformat": 4,
  "nbformat_minor": 0,
  "metadata": {
    "colab": {
      "provenance": []
    },
    "kernelspec": {
      "name": "python3",
      "display_name": "Python 3"
    }
  },
  "cells": [
    {
      "cell_type": "markdown",
      "source": [
        "# Numpy\n",
        "Una biblioteca para operaciones matemáticas con elementos multidimesionales"
      ],
      "metadata": {
        "id": "aGughTZNW1qv"
      }
    },
    {
      "cell_type": "markdown",
      "source": [
        "## Variables"
      ],
      "metadata": {
        "id": "W5Cu2G4xXBzf"
      }
    },
    {
      "cell_type": "code",
      "source": [
        "import numpy as np"
      ],
      "metadata": {
        "id": "STmAUzxUXA_H"
      },
      "execution_count": null,
      "outputs": []
    },
    {
      "cell_type": "code",
      "source": [
        "a = np.array(5)"
      ],
      "metadata": {
        "id": "E07TMYYLRVft"
      },
      "execution_count": null,
      "outputs": []
    },
    {
      "cell_type": "code",
      "source": [
        "v1 = np.array([-5, 2, 7, 1])"
      ],
      "metadata": {
        "id": "i-bC99udxIJk"
      },
      "execution_count": null,
      "outputs": []
    },
    {
      "cell_type": "code",
      "source": [
        "m1 = np.array([[1, 4], [7, -2]])"
      ],
      "metadata": {
        "id": "ylJZr52KxIfK"
      },
      "execution_count": null,
      "outputs": []
    },
    {
      "cell_type": "code",
      "source": [
        "m2 = np.array([[-2, 11], [9, 5]])"
      ],
      "metadata": {
        "id": "0jPmcU7UysIm"
      },
      "execution_count": null,
      "outputs": []
    },
    {
      "cell_type": "markdown",
      "source": [
        "## Operaciones"
      ],
      "metadata": {
        "id": "-RreRX0VXIp_"
      }
    },
    {
      "cell_type": "code",
      "source": [
        "# No ExE\n",
        "res = v1**a\n",
        "print(res)"
      ],
      "metadata": {
        "id": "86wE02sPXKYP",
        "colab": {
          "base_uri": "https://localhost:8080/"
        },
        "outputId": "9b3c6692-e6c7-443b-bd8f-1db8bf8490d9"
      },
      "execution_count": null,
      "outputs": [
        {
          "output_type": "stream",
          "name": "stdout",
          "text": [
            "[-3125    32 16807     1]\n"
          ]
        }
      ]
    },
    {
      "cell_type": "code",
      "source": [
        "# ExE\n",
        "v2 = np.array([3, 4, -1, 0])\n",
        "res2 = np.dot(v1, v2)\n",
        "print(res2)"
      ],
      "metadata": {
        "id": "42mO9loTXK13",
        "colab": {
          "base_uri": "https://localhost:8080/"
        },
        "outputId": "62d1490f-fce2-4a21-91a5-9f943067b852"
      },
      "execution_count": null,
      "outputs": [
        {
          "output_type": "stream",
          "name": "stdout",
          "text": [
            "-14\n"
          ]
        }
      ]
    },
    {
      "cell_type": "code",
      "source": [
        "res3 = np.matmul(m1, m2)\n",
        "res3"
      ],
      "metadata": {
        "colab": {
          "base_uri": "https://localhost:8080/"
        },
        "id": "30kNsh1yyXG-",
        "outputId": "8725df31-e8d7-4a5a-b363-2662acb99c62"
      },
      "execution_count": null,
      "outputs": [
        {
          "output_type": "execute_result",
          "data": {
            "text/plain": [
              "array([[ 34,  31],\n",
              "       [-32,  67]])"
            ]
          },
          "metadata": {},
          "execution_count": 13
        }
      ]
    },
    {
      "cell_type": "markdown",
      "source": [
        "## Cambios de dimensión"
      ],
      "metadata": {
        "id": "YzifjeTgzCwr"
      }
    },
    {
      "cell_type": "code",
      "source": [
        "a.shape"
      ],
      "metadata": {
        "colab": {
          "base_uri": "https://localhost:8080/"
        },
        "id": "RJrMpzXAy23L",
        "outputId": "d3e79f3c-df50-46ca-a3ac-665932ce9de1"
      },
      "execution_count": null,
      "outputs": [
        {
          "output_type": "execute_result",
          "data": {
            "text/plain": [
              "()"
            ]
          },
          "metadata": {},
          "execution_count": 14
        }
      ]
    },
    {
      "cell_type": "code",
      "source": [
        "v1.shape"
      ],
      "metadata": {
        "colab": {
          "base_uri": "https://localhost:8080/"
        },
        "id": "uFKErcdazHnD",
        "outputId": "e3116cb9-3098-4a9e-e310-bcb73d03e7d9"
      },
      "execution_count": null,
      "outputs": [
        {
          "output_type": "execute_result",
          "data": {
            "text/plain": [
              "(4,)"
            ]
          },
          "metadata": {},
          "execution_count": 15
        }
      ]
    },
    {
      "cell_type": "code",
      "source": [
        "m1.shape"
      ],
      "metadata": {
        "colab": {
          "base_uri": "https://localhost:8080/"
        },
        "id": "CpuOvRfHzK5M",
        "outputId": "74f6cce8-f15a-4685-a969-9c3df8c69de3"
      },
      "execution_count": null,
      "outputs": [
        {
          "output_type": "execute_result",
          "data": {
            "text/plain": [
              "(2, 2)"
            ]
          },
          "metadata": {},
          "execution_count": 16
        }
      ]
    },
    {
      "cell_type": "code",
      "source": [
        "a1 = a.reshape(1)\n",
        "print(a1.shape)"
      ],
      "metadata": {
        "colab": {
          "base_uri": "https://localhost:8080/"
        },
        "id": "T_xfzHzgzNuE",
        "outputId": "0e11e637-d3c8-4999-93c8-69f0f094be8a"
      },
      "execution_count": null,
      "outputs": [
        {
          "output_type": "stream",
          "name": "stdout",
          "text": [
            "(1,)\n"
          ]
        }
      ]
    },
    {
      "cell_type": "code",
      "source": [
        "a2 = a.reshape(1,1)\n",
        "print(a2)"
      ],
      "metadata": {
        "colab": {
          "base_uri": "https://localhost:8080/"
        },
        "id": "z2tQk5xazl61",
        "outputId": "aa4f3e7f-a5a3-48a3-a6bb-ef70ea2ba561"
      },
      "execution_count": null,
      "outputs": [
        {
          "output_type": "stream",
          "name": "stdout",
          "text": [
            "[[5]]\n"
          ]
        }
      ]
    },
    {
      "cell_type": "code",
      "source": [
        "m0 = m1.reshape(4)\n",
        "print(m0)"
      ],
      "metadata": {
        "colab": {
          "base_uri": "https://localhost:8080/"
        },
        "id": "_OfDvzUd0lh9",
        "outputId": "700a5520-18f1-4adf-f66f-7b9e412fc520"
      },
      "execution_count": null,
      "outputs": [
        {
          "output_type": "stream",
          "name": "stdout",
          "text": [
            "[ 1  4  7 -2]\n"
          ]
        }
      ]
    },
    {
      "cell_type": "code",
      "source": [],
      "metadata": {
        "id": "MBZohCvb1Gz8"
      },
      "execution_count": null,
      "outputs": []
    }
  ]
}