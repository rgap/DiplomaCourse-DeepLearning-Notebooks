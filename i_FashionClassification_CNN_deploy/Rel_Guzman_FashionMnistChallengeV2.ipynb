{
 "cells": [
  {
   "cell_type": "code",
   "execution_count": 1,
   "metadata": {},
   "outputs": [],
   "source": [
    "%config IPCompleter.greedy=True"
   ]
  },
  {
   "cell_type": "markdown",
   "metadata": {
    "id": "mddxI2KCVmLZ"
   },
   "source": [
    "# Clasificacion de prendas de vestir"
   ]
  },
  {
   "cell_type": "markdown",
   "metadata": {},
   "source": [
    "<img src=\"FashionMNISTclases.png\" width=600>"
   ]
  },
  {
   "cell_type": "code",
   "execution_count": 2,
   "metadata": {
    "id": "dBvFz3vAVmLg"
   },
   "outputs": [],
   "source": [
    "import matplotlib.pyplot as plt           # Librería para graficar\n",
    "import numpy as np                        # Librería para cálculos matemáticos con arreglos\n",
    "\n",
    "# Componentes de keras con tensorflow 2.0\n",
    "import tensorflow as tf\n",
    "from tensorflow.keras.models import Sequential\n",
    "from tensorflow.keras.layers import Conv2D, MaxPooling2D, Flatten, Dense\n",
    "from tensorflow.keras import optimizers, backend\n",
    "import tensorflow.keras.utils as np_utils\n",
    "from tensorflow.keras.callbacks import ModelCheckpoint\n",
    "\n",
    "from tensorflow.keras.datasets import fashion_mnist  # Función para descargar la base de datos"
   ]
  },
  {
   "cell_type": "code",
   "execution_count": 3,
   "metadata": {
    "colab": {
     "base_uri": "https://localhost:8080/",
     "height": 106
    },
    "id": "k2boeAEMVmL5",
    "outputId": "3a5b2c32-9e5c-4686-db45-d293f27c3cd2"
   },
   "outputs": [],
   "source": [
    "# Obtencion de las imágenes y sus etiquetas\n",
    "# La función load_data() da como respuesta los grupos de entrenamiento y test por separado\n",
    "(x_train, y_train), (x_test, y_test) = fashion_mnist.load_data()"
   ]
  },
  {
   "cell_type": "code",
   "execution_count": 4,
   "metadata": {
    "id": "pMkyGyogVmMM",
    "scrolled": true
   },
   "outputs": [
    {
     "name": "stdout",
     "output_type": "stream",
     "text": [
      "Las imágenes del conjunto x_train: (60000, 28, 28)\n",
      "Las etiquetas del conjunto y_train: (60000,)\n",
      "Las imágenes del conjunto x_test: (10000, 28, 28)\n",
      "Las etiquetas del conjunto y_test: (10000,)\n"
     ]
    }
   ],
   "source": [
    "print('Las imágenes del conjunto x_train:', x_train.shape)\n",
    "print('Las etiquetas del conjunto y_train:', y_train.shape)\n",
    "print('Las imágenes del conjunto x_test:', x_test.shape)\n",
    "print('Las etiquetas del conjunto y_test:', y_test.shape)"
   ]
  },
  {
   "cell_type": "code",
   "execution_count": 5,
   "metadata": {
    "id": "zRs-HxWkVmNU"
   },
   "outputs": [
    {
     "data": {
      "image/png": "[encoded data removed]",
      "text/plain": [
       "<Figure size 640x480 with 1 Axes>"
      ]
     },
     "metadata": {},
     "output_type": "display_data"
    },
    {
     "name": "stdout",
     "output_type": "stream",
     "text": [
      "La imagen de entrenamiento 3000, corresponde con la etiqueta: 6\n"
     ]
    }
   ],
   "source": [
    "# Inspección visual de los datos\n",
    "# Vamos a graficar algunas de las imégenes del dataset.\n",
    "# EJERCICIO\n",
    "# Cambiar de numero de imagen y visualiza a que clase pertenece\n",
    "n_imagen = 3000 \n",
    "etiqueta = y_train[n_imagen]\n",
    "plt.imshow(x_train[n_imagen], cmap='gray')\n",
    "plt.show()\n",
    "print('La imagen de entrenamiento {}, corresponde con la etiqueta: {}'.format(n_imagen, etiqueta))"
   ]
  },
  {
   "cell_type": "markdown",
   "metadata": {
    "id": "9Yuhan12aLJ9"
   },
   "source": [
    "## Preprocesamiento de los datos\n",
    "En esta sección normalizaráss las matrices que representan las imágenes y aplicarás codificación 1-hot a las etiquetas con lo que pasarás de tener una etiqueta que representa la clase 4 a un vector de 10 elementos donde el 4° elemento sea un 1 (comenzando desde la posición 0)\n",
    "etiqueta 4 -> 0000100000"
   ]
  },
  {
   "cell_type": "code",
   "execution_count": 6,
   "metadata": {
    "id": "DyEpQ9EtVmNr"
   },
   "outputs": [],
   "source": [
    "# Redimensionamiento\n",
    "# Como las redes neuronales convolucionales trabajan con las imágenes en su forma matricial, las imágenes de fashion mnist no se aplanarán,\n",
    "# pero es necesario colocar explícitamente el número de canales de las imágenes que es de 1:\n",
    "# x_train.reshape(cantidad_de_imágenes, alto, ancho, número_de_canales)\n",
    "x_train = x_train.reshape(60000, 28, 28, 1)\n",
    "x_test = x_test.reshape(10000, 28, 28, 1)"
   ]
  },
  {
   "cell_type": "code",
   "execution_count": 7,
   "metadata": {
    "id": "G1nOaT3qcH1q"
   },
   "outputs": [],
   "source": [
    "# Escalamiento\n",
    "# EJERCICIO\n",
    "# Escala los valores de los pixeles al rango 0 -> 1\n",
    "x_train = x_train/255\n",
    "x_test = x_test/255"
   ]
  },
  {
   "cell_type": "code",
   "execution_count": 8,
   "metadata": {
    "id": "y5RNspZvcWZz"
   },
   "outputs": [],
   "source": [
    "# Codificación 1-hot\n",
    "# EJERCICIO\n",
    "# Aplica codificación 1-hot a las etiquetas y almacena las nuevas etiquetas en variables alternativas y_train1 y y_test1\n",
    "y_train_one_hot = np_utils.to_categorical(y_train)\n",
    "y_test_one_hot = np_utils.to_categorical(y_test)"
   ]
  },
  {
   "cell_type": "code",
   "execution_count": 9,
   "metadata": {
    "id": "LvC1gTiDVmN5"
   },
   "outputs": [
    {
     "name": "stdout",
     "output_type": "stream",
     "text": [
      "la etiqueta 345 originalmente es 5, su codificación 1-hot es: [0. 0. 0. 0. 0. 1. 0. 0. 0. 0.]\n"
     ]
    }
   ],
   "source": [
    "# Si tu codificación fue correcta aqui podrás verificarlo\n",
    "n_etiqueta = 345\n",
    "print('la etiqueta {} originalmente es {}, su codificación 1-hot es: {}'.format(n_etiqueta, y_train[n_etiqueta], y_train_one_hot[n_etiqueta]))"
   ]
  },
  {
   "cell_type": "markdown",
   "metadata": {
    "id": "dTWjg_sWdY4i"
   },
   "source": [
    "## Creación del modelo"
   ]
  },
  {
   "cell_type": "code",
   "execution_count": 10,
   "metadata": {
    "id": "GUmPsF8adcQq"
   },
   "outputs": [],
   "source": [
    "# EJERCICIO\n",
    "# Escribe la instrucción que elimina los modelos creados con keras\n",
    "# Recuerda que es necesario eliminar el modelo cada que se desee volver a entrenar\n",
    "backend.clear_session()"
   ]
  },
  {
   "cell_type": "code",
   "execution_count": 11,
   "metadata": {
    "id": "bKmGRgAzVmOV"
   },
   "outputs": [
    {
     "name": "stdout",
     "output_type": "stream",
     "text": [
      "Metal device set to: Apple M2 Max\n"
     ]
    },
    {
     "name": "stderr",
     "output_type": "stream",
     "text": [
      "2024-03-21 21:25:43.437316: I tensorflow/core/common_runtime/pluggable_device/pluggable_device_factory.cc:305] Could not identify NUMA node of platform GPU ID 0, defaulting to 0. Your kernel may not have been built with NUMA support.\n",
      "2024-03-21 21:25:43.437471: I tensorflow/core/common_runtime/pluggable_device/pluggable_device_factory.cc:271] Created TensorFlow device (/job:localhost/replica:0/task:0/device:GPU:0 with 0 MB memory) -> physical PluggableDevice (device: 0, name: METAL, pci bus id: <undefined>)\n"
     ]
    },
    {
     "name": "stdout",
     "output_type": "stream",
     "text": [
      "Model: \"sequential\"\n",
      "_________________________________________________________________\n",
      " Layer (type)                Output Shape              Param #   \n",
      "=================================================================\n",
      " conv2d (Conv2D)             (None, 26, 26, 32)        320       \n",
      "                                                                 \n",
      " max_pooling2d (MaxPooling2D  (None, 13, 13, 32)       0         \n",
      " )                                                               \n",
      "                                                                 \n",
      " conv2d_1 (Conv2D)           (None, 11, 11, 128)       36992     \n",
      "                                                                 \n",
      " max_pooling2d_1 (MaxPooling  (None, 5, 5, 128)        0         \n",
      " 2D)                                                             \n",
      "                                                                 \n",
      " conv2d_2 (Conv2D)           (None, 3, 3, 512)         590336    \n",
      "                                                                 \n",
      " max_pooling2d_2 (MaxPooling  (None, 1, 1, 512)        0         \n",
      " 2D)                                                             \n",
      "                                                                 \n",
      " flatten (Flatten)           (None, 512)               0         \n",
      "                                                                 \n",
      " dense (Dense)               (None, 10)                5130      \n",
      "                                                                 \n",
      "=================================================================\n",
      "Total params: 632,778\n",
      "Trainable params: 632,778\n",
      "Non-trainable params: 0\n",
      "_________________________________________________________________\n"
     ]
    }
   ],
   "source": [
    "# EJERCICIO\n",
    "# Define aqui tu modelo convolucional colocando las capas convolucionales y pooling, la capa flatten y las capas dense.\n",
    "# Tip 1: comienza con modelos pequeños y luego aumentas su tamaño.\n",
    "# RECUERDA QUE ÚNICAMENTE LA PRIMER CAPA DEBE LLEVAR EL PARÁMETRO: input_shape = (alto, ancho, número_de_canales)\n",
    "# RECUERDA QUE LA ULTIMA CAPA REQUIERE UNA NEURONA POR CLASE.\n",
    "\n",
    "modeloConv = Sequential()\n",
    "modeloConv.add(Conv2D(32, (3,3), activation = 'relu', input_shape = (28, 28, 1)))\n",
    "modeloConv.add(MaxPooling2D(pool_size=(2,2)))\n",
    "modeloConv.add(Conv2D(128, (3,3), activation = 'relu'))\n",
    "modeloConv.add(MaxPooling2D(pool_size=(2,2)))\n",
    "modeloConv.add(Conv2D(512, (3,3), activation = 'relu'))\n",
    "modeloConv.add(MaxPooling2D(pool_size=(2,2)))\n",
    "modeloConv.add(Flatten())\n",
    "modeloConv.add(Dense(10, activation = 'softmax'))\n",
    "\n",
    "\n",
    "# Fin de la definición del modelo\n",
    "\n",
    "# La siguiente línea de código es para mostrar la tabla con las características del modelo\n",
    "modeloConv.summary()"
   ]
  },
  {
   "cell_type": "code",
   "execution_count": 12,
   "metadata": {
    "id": "u1Qddb1dVmOy"
   },
   "outputs": [],
   "source": [
    "# EJERCICIO\n",
    "# Define el optimizador Adam\n",
    "adam = optimizers.Adam(learning_rate=0.001)"
   ]
  },
  {
   "cell_type": "code",
   "execution_count": 13,
   "metadata": {
    "id": "D8NHu4DLd9ns"
   },
   "outputs": [],
   "source": [
    "# EJERCICIO\n",
    "# Compila el modelo definiendo el optimizador \"adam\", la función de costo (loss) como la \"categorical_crossentropy\"\n",
    "# y la metrica como el \"accuracy\"\n",
    "modeloConv.compile(optimizer = adam, loss = \"categorical_crossentropy\", metrics = [\"accuracy\"])"
   ]
  },
  {
   "cell_type": "code",
   "execution_count": 14,
   "metadata": {
    "id": "KUPmvePnVmPx",
    "scrolled": false
   },
   "outputs": [
    {
     "name": "stdout",
     "output_type": "stream",
     "text": [
      "Epoch 1/10\n"
     ]
    },
    {
     "name": "stderr",
     "output_type": "stream",
     "text": [
      "2024-03-21 21:25:44.155717: W tensorflow/core/platform/profile_utils/cpu_utils.cc:128] Failed to get CPU frequency: 0 Hz\n",
      "2024-03-21 21:25:44.317354: I tensorflow/core/grappler/optimizers/custom_graph_optimizer_registry.cc:113] Plugin optimizer for device_type GPU is enabled.\n"
     ]
    },
    {
     "name": "stdout",
     "output_type": "stream",
     "text": [
      "600/600 [==============================] - ETA: 0s - loss: 0.5633 - accuracy: 0.7986"
     ]
    },
    {
     "name": "stderr",
     "output_type": "stream",
     "text": [
      "2024-03-21 21:25:53.557087: I tensorflow/core/grappler/optimizers/custom_graph_optimizer_registry.cc:113] Plugin optimizer for device_type GPU is enabled.\n"
     ]
    },
    {
     "name": "stdout",
     "output_type": "stream",
     "text": [
      "600/600 [==============================] - 10s 13ms/step - loss: 0.5633 - accuracy: 0.7986 - val_loss: 0.4281 - val_accuracy: 0.8446\n",
      "Epoch 2/10\n",
      "600/600 [==============================] - 8s 13ms/step - loss: 0.3791 - accuracy: 0.8620 - val_loss: 0.3606 - val_accuracy: 0.8701\n",
      "Epoch 3/10\n",
      "600/600 [==============================] - 7s 12ms/step - loss: 0.3268 - accuracy: 0.8798 - val_loss: 0.3489 - val_accuracy: 0.8701\n",
      "Epoch 4/10\n",
      "600/600 [==============================] - 8s 13ms/step - loss: 0.2868 - accuracy: 0.8945 - val_loss: 0.3294 - val_accuracy: 0.8817\n",
      "Epoch 5/10\n",
      "600/600 [==============================] - 8s 13ms/step - loss: 0.2603 - accuracy: 0.9041 - val_loss: 0.3227 - val_accuracy: 0.8866\n",
      "Epoch 6/10\n",
      "600/600 [==============================] - 8s 13ms/step - loss: 0.2329 - accuracy: 0.9132 - val_loss: 0.3048 - val_accuracy: 0.8914\n",
      "Epoch 7/10\n",
      "600/600 [==============================] - 7s 12ms/step - loss: 0.2103 - accuracy: 0.9223 - val_loss: 0.2909 - val_accuracy: 0.8983\n",
      "Epoch 8/10\n",
      "600/600 [==============================] - 7s 12ms/step - loss: 0.1890 - accuracy: 0.9315 - val_loss: 0.3089 - val_accuracy: 0.8850\n",
      "Epoch 9/10\n",
      "600/600 [==============================] - 7s 12ms/step - loss: 0.1709 - accuracy: 0.9375 - val_loss: 0.3135 - val_accuracy: 0.8881\n",
      "Epoch 10/10\n",
      "600/600 [==============================] - 8s 13ms/step - loss: 0.1482 - accuracy: 0.9463 - val_loss: 0.3230 - val_accuracy: 0.8959\n"
     ]
    }
   ],
   "source": [
    "# EJERCICIO\n",
    "# Entrena el modelo eligiendo un número de epocas y los datos de entrenamiento y validación\n",
    "# Recuerda que guardamos el entrenamiento en una variable para poder graficar el error\n",
    "# RECUERDA ENTRENAR CON LOS \"Y\" CODIFICADOS CON 1-HOT\n",
    "M = modeloConv.fit(x_train, y_train_one_hot,\n",
    "                   validation_data = (x_test, y_test_one_hot),\n",
    "                   epochs = 10, batch_size = 100,\n",
    "                   shuffle = True, verbose = True)"
   ]
  },
  {
   "cell_type": "code",
   "execution_count": 15,
   "metadata": {
    "id": "SRcwq4ijfXu0"
   },
   "outputs": [
    {
     "data": {
      "image/png": "[encoded data removed]",
      "text/plain": [
       "<Figure size 640x480 with 1 Axes>"
      ]
     },
     "metadata": {},
     "output_type": "display_data"
    }
   ],
   "source": [
    "# Grafica de la evolución del error a traves de cada época\n",
    "# Recuerda que esta gráfica te da la pauta para saber si debes aumentar el numero de epocas, entrenar de nuevo o quedarte con el modelo\n",
    "plt.plot(M.history['loss'], label = 'entrenamiento')\n",
    "plt.plot(M.history['val_loss'], label = 'validación')\n",
    "plt.title('Evolución del error en cada epoca')\n",
    "plt.legend(loc = 'best')\n",
    "plt.xlabel('epoca')\n",
    "plt.ylabel('error')\n",
    "plt.show()"
   ]
  },
  {
   "cell_type": "code",
   "execution_count": 16,
   "metadata": {
    "id": "4jl0DtC6VmQC"
   },
   "outputs": [
    {
     "data": {
      "image/png": "[encoded data removed]",
      "text/plain": [
       "<Figure size 640x480 with 1 Axes>"
      ]
     },
     "metadata": {},
     "output_type": "display_data"
    }
   ],
   "source": [
    "# Grafica de la evolución de la precisión (acc) del modelo a traves de cada época\n",
    "# Buscamos que el acc del modelo vaya incrementando hasta llegar a 1\n",
    "plt.plot(M.history['accuracy'], label = 'entrenamiento')\n",
    "plt.plot(M.history['val_accuracy'], label = 'validacion')\n",
    "plt.title('Evolución de la exactitud en cada epoca')\n",
    "plt.legend(loc = 'best')\n",
    "plt.xlabel('epocas')\n",
    "plt.ylabel('accuracy')\n",
    "plt.show()"
   ]
  },
  {
   "cell_type": "markdown",
   "metadata": {
    "id": "L2SRF2rHgKKL"
   },
   "source": [
    "## Evaluación del modelo\n",
    "En esta sección realizaremos pruebas sobre el modelo."
   ]
  },
  {
   "cell_type": "code",
   "execution_count": 17,
   "metadata": {
    "id": "9YpVfdGkVmQO"
   },
   "outputs": [
    {
     "name": "stderr",
     "output_type": "stream",
     "text": [
      "2024-03-21 21:27:01.709653: I tensorflow/core/grappler/optimizers/custom_graph_optimizer_registry.cc:113] Plugin optimizer for device_type GPU is enabled.\n"
     ]
    },
    {
     "name": "stdout",
     "output_type": "stream",
     "text": [
      "1/1 [==============================] - 0s 442ms/step\n"
     ]
    },
    {
     "data": {
      "image/png": "[encoded data removed]",
      "text/plain": [
       "<Figure size 640x480 with 1 Axes>"
      ]
     },
     "metadata": {},
     "output_type": "display_data"
    },
    {
     "name": "stdout",
     "output_type": "stream",
     "text": [
      "La imagen 1000 pertenece a la clase 0, el modelo la clasifica como: 6\n",
      "Probabilidades: [[2.1693788e-01 1.1884782e-09 5.0033275e-05 3.5294794e-04 1.6915952e-06\n",
      "  2.4913794e-07 7.8264886e-01 2.3546258e-09 2.5720174e-08 8.3431823e-06]]\n"
     ]
    }
   ],
   "source": [
    "# EJERCICIO\n",
    "# Elije alguna de las imagenes de test para ejecutar una inferencia  con el modelo\n",
    "n_imagen = 1000\n",
    "imagen = x_test[n_imagen]\n",
    "clasificacion_real = y_test[n_imagen]       # este es el precio real de la casa\n",
    "\n",
    "# En tensorflow 2.0 ya no aparece el método predict_classes, por lo que utilizaremos predict que devuelve el vector completo\n",
    "# con 10 elementos y posteriormente utilizando np.argmax encontramos la posición dentro del vector del elemento que tiene el valor\n",
    "# más grande. Esta posición corresponde con el número de la clase asignada a la imágen.\n",
    "prediccion = modeloConv.predict(imagen.reshape(1,28,28,1))\n",
    "clasificacion_modelo = np.argmax(prediccion)\n",
    "\n",
    "plt.imshow(x_test[n_imagen].reshape(28,28), cmap='gray')   # debemos transformar la imagen a matriz si queremos graficarla\n",
    "plt.show()\n",
    "\n",
    "print('La imagen {} pertenece a la clase {}, el modelo la clasifica como: {}'.format(n_imagen, clasificacion_real, clasificacion_modelo))\n",
    "print('Probabilidades: {}'.format(prediccion))"
   ]
  },
  {
   "cell_type": "code",
   "execution_count": 18,
   "metadata": {
    "id": "UUVNTqnIVmWr"
   },
   "outputs": [
    {
     "name": "stdout",
     "output_type": "stream",
     "text": [
      "\r",
      "  1/313 [..............................] - ETA: 1:02 - loss: 0.9211 - accuracy: 0.8750"
     ]
    },
    {
     "name": "stderr",
     "output_type": "stream",
     "text": [
      "2024-03-21 21:27:02.234125: I tensorflow/core/grappler/optimizers/custom_graph_optimizer_registry.cc:113] Plugin optimizer for device_type GPU is enabled.\n"
     ]
    },
    {
     "name": "stdout",
     "output_type": "stream",
     "text": [
      "313/313 [==============================] - 2s 6ms/step - loss: 0.3230 - accuracy: 0.8959\n",
      "La evaluación del modelo es:  [0.3230045437812805, 0.8959000110626221]\n"
     ]
    }
   ],
   "source": [
    "# Evaluación general\n",
    "# Esta será una evaluación general del modelo con las imágenes del conjunto de test\n",
    "# El metodo evaluate devuelve el valor numerico del accuracy o precisión del modelo\n",
    "# Buscamos que el accuracy este lo más cerca del valor 1\n",
    "evaluacion = modeloConv.evaluate(x_test, y_test_one_hot)\n",
    "print('La evaluación del modelo es: ', evaluacion)"
   ]
  },
  {
   "cell_type": "markdown",
   "metadata": {
    "id": "c52Ljqw9iBNI"
   },
   "source": [
    "## Probando otra imagen"
   ]
  },
  {
   "cell_type": "code",
   "execution_count": 19,
   "metadata": {},
   "outputs": [
    {
     "data": {
      "image/png": "[encoded data removed]",
      "text/plain": [
       "<Figure size 640x480 with 1 Axes>"
      ]
     },
     "metadata": {},
     "output_type": "display_data"
    }
   ],
   "source": [
    "img = np_utils.load_img('blusa.png', target_size=(28, 28), color_mode = 'grayscale')\n",
    "plt.imshow(img, cmap='gray')\n",
    "plt.show(img)"
   ]
  },
  {
   "cell_type": "code",
   "execution_count": 20,
   "metadata": {},
   "outputs": [
    {
     "data": {
      "image/png": "[encoded data removed]",
      "text/plain": [
       "<Figure size 640x480 with 1 Axes>"
      ]
     },
     "metadata": {},
     "output_type": "display_data"
    }
   ],
   "source": [
    "img = np_utils.img_to_array(img)\n",
    "img = img/255\n",
    "img = 1 - img\n",
    "plt.imshow(img.squeeze(), cmap='gray')  # squeeze() is used to remove single-dimensional entries from the shape of an array\n",
    "plt.show()"
   ]
  },
  {
   "cell_type": "code",
   "execution_count": 21,
   "metadata": {},
   "outputs": [
    {
     "name": "stdout",
     "output_type": "stream",
     "text": [
      "1/1 [==============================] - 0s 9ms/step\n"
     ]
    },
    {
     "data": {
      "text/plain": [
       "array([[1.5457679e-01, 9.6445017e-02, 6.5751922e-01, 1.0407964e-02,\n",
       "        8.2916319e-03, 2.8119021e-04, 4.6470642e-02, 2.7143108e-04,\n",
       "        2.5582805e-02, 1.5332719e-04]], dtype=float32)"
      ]
     },
     "execution_count": 21,
     "metadata": {},
     "output_type": "execute_result"
    }
   ],
   "source": [
    "prediccion = modeloConv.predict(img.reshape(1,28,28,1))\n",
    "prediccion"
   ]
  },
  {
   "cell_type": "code",
   "execution_count": 22,
   "metadata": {},
   "outputs": [
    {
     "data": {
      "text/plain": [
       "2"
      ]
     },
     "execution_count": 22,
     "metadata": {},
     "output_type": "execute_result"
    }
   ],
   "source": [
    "np.argmax(prediccion)"
   ]
  },
  {
   "cell_type": "markdown",
   "metadata": {},
   "source": [
    "## Archivos para el deploy\n",
    "\n",
    "Archivo de pesos y arquitectura de la red"
   ]
  },
  {
   "cell_type": "code",
   "execution_count": 23,
   "metadata": {},
   "outputs": [],
   "source": [
    "modeloConv.save_weights('modelo.h5')"
   ]
  },
  {
   "cell_type": "code",
   "execution_count": 24,
   "metadata": {},
   "outputs": [],
   "source": [
    "modelo_json = modeloConv.to_json()\n",
    "with open('modelo.json', 'w') as json_file:\n",
    "    json_file.write(modelo_json)"
   ]
  },
  {
   "cell_type": "code",
   "execution_count": null,
   "metadata": {},
   "outputs": [],
   "source": []
  }
 ],
 "metadata": {
  "anaconda-cloud": {},
  "colab": {
   "provenance": []
  },
  "kernelspec": {
   "display_name": "Python 3 (ipykernel)",
   "language": "python",
   "name": "python3"
  },
  "language_info": {
   "codemirror_mode": {
    "name": "ipython",
    "version": 3
   },
   "file_extension": ".py",
   "mimetype": "text/x-python",
   "name": "python",
   "nbconvert_exporter": "python",
   "pygments_lexer": "ipython3",
   "version": "3.10.9"
  }
 },
 "nbformat": 4,
 "nbformat_minor": 1
}
